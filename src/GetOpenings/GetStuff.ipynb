{
 "cells": [
  {
   "cell_type": "code",
   "execution_count": 17,
   "metadata": {},
   "outputs": [],
   "source": [
    "import requests as re\n",
    "from bs4 import BeautifulSoup as bs\n",
    "import pandas as pd\n",
    "\n",
    "url = \"https://www.pgnmentor.com/files.html#openings\"\n",
    "\n",
    "res = re.get(url)\n",
    "\n",
    "soup = bs(res.content, 'html.parser')"
   ]
  },
  {
   "cell_type": "code",
   "execution_count": null,
   "metadata": {},
   "outputs": [
    {
     "name": "stdout",
     "output_type": "stream",
     "text": [
      "['1.d4 Nf6 2. Bg5 d5', ' c5', ' g6']\n",
      "['1.d4 f5 2. Nc3', ' Bg5', ' e4']\n",
      "['1.d4 Nf6 2.c4 g6 3. Nc3 d5 4. Bf4', ' Bg5', ' e3', ' Qb3']\n",
      "['1.d4 Nf6 2.c4 e6 3. Nf3 b6 4. Bg5', ' Bf4']\n",
      "['1.d4 Nf6 2.c4 e6 3. Nf3 b6 4.g3 Bb7', ' Bb4+']\n",
      "['1.d4 Nf6 2.c4 e6 3. Nc3 Bb4 4.g3', ' Qb3', ' Bd2']\n",
      "['1.d4 Nf6 2.c4 e6 3. Nc3 Bb4 4. Qc2 d5', ' Nc6', ' b6', ' d6']\n",
      "['1.d4 Nf6 2.c4 e6 3. Nc3 Bb4 4.e3 b6', ' d5', ' Nc6', ' Bxc3+']\n",
      "['1.d4 Nf6 2.c4 g6 3. Nc3 Bg7 4.e4 d6 5. Nf3 O-O 6. Be2 e5 7. Be3', ' dxe5', ' Bg51.d4 Nf6 2.c4 g6 3. Nc3 Bg7 4.e4 d6 5. Nf3 O-O 6. Be2 e5 7.O-O Nbd7', ' Na6', ' exd4', ' c6', ' Nh5', ' Qe8']\n",
      "['1.d4 Nf6 2.c4 g6 3. Nc3 Bg7 4.e4 d6 5. Nf3 Bg4', ' Nbd7', ' c6', ' c51.d4 Nf6 2.c4 g6 3. Nc3 Bg7 4.e4 d6 5. Nf3 O-O 6.h3', ' Be3', ' Bg5', ' Bd3', ' g3']\n",
      "['1.d4 d5 2.c4 c6 3. Nf3 dxc41.d4 d5 2.c4 c6 3. Nf3 Nf6 4. Qc2', ' Qb3', ' g3', ' Nbd2']\n",
      "['1.d4 d5 2.c4 c6 3. Nf3 Nf6 4. Nc3 dxc4 5.e4', ' e3', ' Ne5', ' g31.d4 d5 2.c4 c6 3. Nf3 Nf6 4. Nc3 dxc4 5.a4 Bg4', ' Na6', ' e6']\n",
      "['1.d4 d5 2.c4 dxc4 3. Nf3 a6', ' c5']\n",
      "['1.d4 d5 2.c4 dxc4 3. Nf3 Nf6 4. Nc3', ' Qa4+1.d4 d5 2.c4 dxc4 3. Nf3 Nf6 4.e3 Bg4', ' a6', ' g6', ' c5']\n",
      "['1.d4 d5 2.c4 e6 3. Nf3 c51.d4 d5 2.c4 e6 3. Nc3 c6 4.e41.d4 d5 2.c4 e6 3. Nc3 c6 4. Nf3 dxc41.d4 d5 2.c4 e6 3. Nc3 c6 4.cxd5 exd51.d4 d5 2.c4 e6 3. Nc3 Nf6 4. Nf3 Nbd7', ' Bb4']\n",
      "['1.d4 d5 2.c4 e6 3. Nf3 Nf6 4. Nc3 c6 5. Qb3', ' Bf4']\n",
      "['1.d4 d5 2.c4 e6 3. Nc3 Nf6 4. Bg5 Nbd7', ' c5', ' Bb4']\n",
      "['1.e4 d5 2.exd5 Nf6 3.c4', ' Bb5+', ' Nc3', ' Nf3', ' Bc4']\n",
      "['1.e4 Nf6 2.e5 Nd5 3.c4', ' Nc3', ' Nf3', ' Bc4', ' g3']\n",
      "['1.e4 g6 2.d4 Bg7 3. Nc3 c5', ' a6', ' d5', ' Nc6']\n",
      "['1.e4 g6 2.d4 Bg7 3.c3', ' f4', ' Be3', ' Bc4']\n",
      "['1.e4 d6 2.d4 Nf6 3. Bd3', ' f3', ' Nd2']\n",
      "['1.e4 d6 2.d4 Nf6 3. Nc3 c6', ' e5', ' Nbd7']\n",
      "['1.e4 d6 2.d4 Nf6 3. Nc3 g6 4. Be3', ' Bg5', ' f3', ' g3', ' Be2']\n",
      "['1.e4 e6 2. Nf3', ' Qe2', ' Nc3', ' b3', ' c4']\n",
      "['1.e4 e6 2.d4 d5 3. Nd2 Nc6', ' Be7', ' a6']\n",
      "['1.e4 e6 2.d4 d5 3. Nc3 Bb4 4. Ne2', ' exd5', ' Bd3', ' a3']\n",
      "['1.e4 e6 2.d4 d5 3. Nc3 Bb4 4.e5 Ne7', ' b6', ' Qd7']\n",
      "['1.e4 c5 2.d3', ' b3', ' c4', ' g3', ' Ne2', ' Bc4', ' b4']\n",
      "['1.e4 c5 2.c3 e6', ' d6', ' g6', ' e5', ' b6', ' Nc6', ' Qa5']\n",
      "['1.e4 c5 2. Nc3 Nc6 3. Nf3', ' Nge2', ' Bb5']\n",
      "['1.e4 c5 2. Nf3 g6', ' a6', ' Nf6']\n",
      "['1.e4 c5 2. Nf3 Nc6 3.d4 cxd4 4. Nxd4 Qc7', ' Qb6']\n",
      "['1.e4 c5 2. Nf3 Nc6 3.d4 cxd4 4. Nxd4 Nf6 5. Nc3 g6', ' a6', ' Qb6']\n",
      "['1.e4 c5 2. Nf3 e6 3.d4 cxd4 4. Nxd4 a6 5. Be2', ' Be3', ' g3']\n",
      "['1.e4 c5 2. Nf3 e6 3.d4 cxd4 4. Nxd4 Nc6 5. Be3', ' Nxc6', ' c4', ' Be2', ' g3']\n",
      "['1.e4 c5 2. Nf3 d6 3.d4 cxd4 4. Nxd4 Nf6 5. Nc3 g6 6.g3', ' f4', ' f3', ' Bg5']\n",
      "['1.e4 c5 2. Nf3 d6 3.d4 cxd4 4. Nxd4 Nf6 5. Nc3 g6 6. Be2', ' Bc4']\n",
      "['1.e4 c5 2. Nf3 d6 3.d4 cxd4 4. Nxd4 Nf6 5. Nc3 Nc6 6. Be2', ' Be3', ' f3', ' g3', ' f4']\n",
      "['1.e4 e5 2. Nf3 f5', ' d5']\n",
      "['1.e4 e5 2. Nf3 Nf6 3. Nc3', ' d4', ' d3', ' Bc4']\n",
      "['1.e4 e5 2. Nf3 Nc6 3. Nc3 Bc5', ' g6', ' d6', ' Bb4']\n",
      "['1.e4 e5 2. Nf3 Nc6 3.d4 exd4 4. Nxd4 Qh4', ' Nxd4', ' Qf6', ' Bb4+', ' d6', ' g6']\n",
      "['1.e4 e5 2. Nf3 Nc6 3. Bb5 d6', ' Nd4', ' g6', ' Nge7']\n",
      "['1.e4 e5 2. Nf3 Nc6 3. Bb5 a6 4. Ba4 Nf6 5.d3', ' d4', ' Qe2']\n",
      "['1.e4 e5 2. Nf3 Nc6 3. Bb5 a6 4. Ba4 Nf6 5.O-O Bc5', ' d6']\n",
      "['1.e4 e5 2. Nf3 Nc6 3. Bb5 a6 4. Ba4 Nf6 5.O-O Be7 6. Bxc6', ' Qe2', ' d4', ' d3', ' Nc3']\n",
      "['1.e4 e5 2. Nf3 Nc6 3. Bb5 a6 4. Ba4 Nf6 5.O-O Be7 6. Re1 b5 7. Bb3 O-O 8.a4', ' h3', ' d4', ' d3']\n",
      "['1.e4 e5 2. Nf3 Nc6 3. Bb5 a6 4. Ba4 Nf6 5.O-O Be7 6. Re1 b5 7. Bb3 d6 8.c3 O-O 9.d4', ' d3', ' a4']\n",
      "['1.e4 e5 2. Nf3 Nc6 3. Bb5 a6 4. Ba4 Nf6 5.O-O Be7 6. Re1 b5 7. Bb3 d6 8.c3 O-O 9.h3 Nd7', ' h6', ' Be6']\n",
      "['1.c4 c5 2. Nc3 Nf6 3. Nf3 e6', ' d5', ' g6', ' b6']\n",
      "['1.c4 e5 2. Nc3 d6', ' Bb4']\n"
     ]
    }
   ],
   "source": [
    "rows = soup.find_all('tr')\n",
    "piece_map = {\n",
    "    \"Knight\": \" N\",\n",
    "    \"Bishop\": \" B\",\n",
    "    \"King\": \" K\",\n",
    "    \"Queen\": \" Q\",\n",
    "    \"Rook\": \" R\"\n",
    "}\n",
    "data = {\"Opening\": [], \"Notation\": []}\n",
    "for row in rows:\n",
    "    td_tags = row.find_all('td', style=\"background-image: url('txtbg.gif')\")\n",
    "\n",
    "    if len(td_tags) >= 3:\n",
    "        opening_info = td_tags[1].get_text(separator=\" \").strip()\n",
    "        \n",
    "        opening_info= opening_info.split(\" \")\n",
    "        opening_info.pop(-1)\n",
    "        opening_info.pop(-1)\n",
    "        opening_info = \" \".join(opening_info)\n",
    "        notation_td = td_tags[2]\n",
    "        notation = \"\"\n",
    "        for content in notation_td.contents:\n",
    "            if content.name == \"img\":  \n",
    "                piece = content.get(\"alt\", \"\")  \n",
    "                notation += piece_map.get(piece, \"\")  \n",
    "            elif isinstance(content, str):  \n",
    "                notation += content.strip()\n",
    "\n",
    "        arr = notation.split(\",\")\n",
    "        if len(arr) > 1:\n",
    "            print(opening_info)\n",
    "            print(arr)\n",
    "        data[\"Notation\"].append(notation)\n",
    "        data[\"Opening\"].append(opening_info)\n"
   ]
  },
  {
   "cell_type": "code",
   "execution_count": 25,
   "metadata": {},
   "outputs": [],
   "source": [
    "df = pd.DataFrame.from_dict(data)\n",
    "df.to_csv(\"openings.csv\")"
   ]
  }
 ],
 "metadata": {
  "kernelspec": {
   "display_name": "venv",
   "language": "python",
   "name": "python3"
  },
  "language_info": {
   "codemirror_mode": {
    "name": "ipython",
    "version": 3
   },
   "file_extension": ".py",
   "mimetype": "text/x-python",
   "name": "python",
   "nbconvert_exporter": "python",
   "pygments_lexer": "ipython3",
   "version": "3.12.3"
  }
 },
 "nbformat": 4,
 "nbformat_minor": 2
}
